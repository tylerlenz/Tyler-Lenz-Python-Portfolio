{
 "cells": [
  {
   "cell_type": "markdown",
   "metadata": {},
   "source": [
    "# Homework 4 - Part 1\n",
    "\n",
    "In this assignment, I will be downloading three related sets of data. I will be scouring the FRED database in order to retrieve these sets. The two .py files made during class will be made of use. They will be provided below before I get started. I will explain how I believe that the datasets are related, and provide visualizations to reinforce my thoughts."
   ]
  },
  {
   "cell_type": "markdown",
   "metadata": {},
   "source": [
    "Below are the plots.py and FRED.py files:"
   ]
  },
  {
   "cell_type": "code",
   "execution_count": 1,
   "metadata": {},
   "outputs": [],
   "source": [
    "#plots.py\n",
    "import os\n",
    "import pandas as pd\n",
    "import numpy as np\n",
    "import matplotlib.pyplot as plt\n",
    "\n",
    "def plot_ts_scatter(df, s = 75, figsize = (40, 20), save_fig = False, pp = None):\n",
    "    plot_vars = list(df.keys())\n",
    "    for x in plot_vars:\n",
    "        for y in plot_vars:\n",
    "            if x != y:\n",
    "                fig, ax = plt.subplots(figsize = figsize)\n",
    "            \n",
    "            if \"Year\" not in df.keys():\n",
    "                df[\"Year\"] = [int(str(ind)[:4]) for ind in df.index]\n",
    "                \n",
    "            df.plot.scatter(x = x, y = y, s = s, ax = ax, c = \"Year\", cmap = \"plasma\")\n",
    "                \n",
    "            ax.tick_params(axis = 'x', rotation =90)\n",
    "            ax.tick_params('both', length = 0, which = 'both')\n",
    "                \n",
    "            if save_fig:\n",
    "                try:\n",
    "                       os.mkdir(\"plots\")\n",
    "                except:\n",
    "                    pass\n",
    "                \n",
    "                directory = \"plots/\" + x[:12] + \" \" + y[:12] + \" c=Year\"\n",
    "                plt.savefig(directory + \".png\")\n",
    "                if pp != None: pp.savefig(fig, bbox_inches = \"tight\")"
   ]
  },
  {
   "cell_type": "code",
   "execution_count": 2,
   "metadata": {},
   "outputs": [],
   "source": [
    "#FRED.py\n",
    "import pandas as pd\n",
    "import pandas_datareader.data as web\n",
    "import datetime\n",
    "\n",
    "def gather_data(data_codes, start, end = datetime.datetime.today(), freq = \"A\"):\n",
    "    i = 0;\n",
    "    for key, code in data_codes.items():\n",
    "        if i == 0:\n",
    "            df = web.DataReader(code, \"fred\", start, end).resample(freq).mean()\n",
    "            df.rename(columns = {code:key}, inplace = True)\n",
    "            \n",
    "            i = None\n",
    "        else:\n",
    "            df[key] = web.DataReader(code, \"fred\", start, end).resample(freq).mean()\n",
    "            \n",
    "        return df"
   ]
  },
  {
   "cell_type": "markdown",
   "metadata": {},
   "source": [
    "Now, onto the datasets. I was not too sure as to what direction I wanted to take with this. But after looking around, I stumbled upon some datasets that I would like to jointly observe. My datasets will look at the federal debt. They will showcase the total public debt, the debt held by the public, and the debt held by foreign and international investors."
   ]
  },
  {
   "cell_type": "code",
   "execution_count": 8,
   "metadata": {},
   "outputs": [],
   "source": [
    "from datlib.plots import *\n",
    "from datlib.FRED import *\n",
    "\n",
    "data_codes = {\"Federal Debt: Total Public Debt\": \"GFDEBTN\",\n",
    "              \"Federal Debt: Held by the Public\" : \"FYGFDPUN\",\n",
    "              \"Federal Debt: Held by Foreign and International Investors\" : \"FDHBFIN\"\n",
    "             }\n",
    "\n",
    "start = datetime.datetime(1970,1,1)\n",
    "end = datetime.datetime.today()\n",
    "\n",
    "data = gather_data(data_codes = data_codes, start = start, end = end, freq = \"Q\")"
   ]
  },
  {
   "cell_type": "markdown",
   "metadata": {},
   "source": [
    "Now that we have our data loaded, we can start to analyze it. To start, we can use a stacked line graph, which will show the growth/decay across the years. We will code the function to construct our line graph below:"
   ]
  },
  {
   "cell_type": "code",
   "execution_count": null,
   "metadata": {},
   "outputs": [],
   "source": [
    "def plot_lines(df, linewidth)"
   ]
  },
  {
   "cell_type": "code",
   "execution_count": 9,
   "metadata": {},
   "outputs": [
    {
     "ename": "NameError",
     "evalue": "name 'plot_lines' is not defined",
     "output_type": "error",
     "traceback": [
      "\u001b[0;31m---------------------------------------------------------------------------\u001b[0m",
      "\u001b[0;31mNameError\u001b[0m                                 Traceback (most recent call last)",
      "\u001b[0;32m<ipython-input-9-425bed253c46>\u001b[0m in \u001b[0;36m<module>\u001b[0;34m\u001b[0m\n\u001b[0;32m----> 1\u001b[0;31m \u001b[0mplot_lines\u001b[0m\u001b[0;34m(\u001b[0m\u001b[0mdf\u001b[0m \u001b[0;34m=\u001b[0m \u001b[0mdata\u001b[0m\u001b[0;34m,\u001b[0m \u001b[0mlinewidth\u001b[0m \u001b[0;34m=\u001b[0m \u001b[0;36m1\u001b[0m\u001b[0;34m,\u001b[0m \u001b[0mfigsize\u001b[0m \u001b[0;34m=\u001b[0m \u001b[0;34m(\u001b[0m\u001b[0;36m40\u001b[0m\u001b[0;34m,\u001b[0m \u001b[0;36m20\u001b[0m\u001b[0;34m)\u001b[0m\u001b[0;34m,\u001b[0m \u001b[0mpp\u001b[0m \u001b[0;34m=\u001b[0m \u001b[0;32mNone\u001b[0m\u001b[0;34m)\u001b[0m\u001b[0;34m\u001b[0m\u001b[0;34m\u001b[0m\u001b[0m\n\u001b[0m",
      "\u001b[0;31mNameError\u001b[0m: name 'plot_lines' is not defined"
     ]
    }
   ],
   "source": [
    "plot_lines(df = data, linewidth = 1, figsize = (40, 20), pp = None)"
   ]
  },
  {
   "cell_type": "code",
   "execution_count": null,
   "metadata": {},
   "outputs": [],
   "source": []
  }
 ],
 "metadata": {
  "kernelspec": {
   "display_name": "Python 3",
   "language": "python",
   "name": "python3"
  },
  "language_info": {
   "codemirror_mode": {
    "name": "ipython",
    "version": 3
   },
   "file_extension": ".py",
   "mimetype": "text/x-python",
   "name": "python",
   "nbconvert_exporter": "python",
   "pygments_lexer": "ipython3",
   "version": "3.8.3"
  }
 },
 "nbformat": 4,
 "nbformat_minor": 4
}

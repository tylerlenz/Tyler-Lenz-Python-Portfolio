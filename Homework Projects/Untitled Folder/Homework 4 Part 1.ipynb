{
 "cells": [
  {
   "cell_type": "markdown",
   "metadata": {},
   "source": [
    "# Homework 4 - Part 1\n",
    "\n",
    "In this assignment, I will be downloading three related sets of data. I will be scouring the FRED database in order to retrieve these sets. The two .py files made during class will be made of use. They will be provided below before I get started. I will explain how I believe that the datasets are related, and provide visualizations to reinforce my thoughts."
   ]
  },
  {
   "cell_type": "markdown",
   "metadata": {},
   "source": [
    "Below are the plots.py and FRED.py files:"
   ]
  },
  {
   "cell_type": "code",
   "execution_count": 4,
   "metadata": {},
   "outputs": [],
   "source": [
    "#plots.py\n",
    "import os\n",
    "import pandas as pd\n",
    "import numpy as np\n",
    "import matplotlib.pyplot as plt\n",
    "\n",
    "def plot_ts_scatter(df, s = 75, figsize = (40, 20), save_fig = False, pp = None):\n",
    "    plot_vars = list(df.keys())\n",
    "    for x in plot_vars:\n",
    "        for y in plot_vars:\n",
    "            if x != y:\n",
    "                fig, ax = plt.subplots(figsize = figsize)\n",
    "            \n",
    "                if \"Year\" not in df.keys():\n",
    "                    df[\"Year\"] = [int(str(ind)[:4]) for ind in df.index]\n",
    "                \n",
    "                df.plot.scatter(x = x, y = y, s = s, ax = ax, c = \"Year\", cmap = \"plasma\")\n",
    "                \n",
    "                ax.tick_params(axis = 'x', rotation =90)\n",
    "                ax.tick_params('both', length = 0, which = 'both')\n",
    "                \n",
    "                if save_fig:\n",
    "                    try:\n",
    "                        os.mkdir(\"plots\")\n",
    "                    except:\n",
    "                        pass\n",
    "                \n",
    "                    directory = \"plots/\" + x[:12] + \" \" + y[:12] + \" c=Year\"\n",
    "                    plt.savefig(directory + \".png\")\n",
    "                    if pp != None: pp.savefig(fig, bbox_inches = \"tight\")\n",
    "                    \n",
    "def plot_lines(df, linewidth = 1, figsize = (40,20), pp = None):\n",
    "    \n",
    "    fig, ax = plt.subplots(figsize = figsize)\n",
    "    df.plot.line(linewidth = linewidth, ax = ax)\n",
    "    ax.tick_params(axis = 'x', rotation = 90)\n",
    "    ax.tick_params('both', length = 0, which = 'both')\n",
    "    vals = ax.get_yticks()\n",
    "    ax.set_yticklabels([int(x) for x in vals])\n",
    "    \n",
    "    remove_chars = \"[]:$'\\\\\"\n",
    "    filename=str(list(df.keys()))\n",
    "    for char in remove_chars:\n",
    "        filename = filename.replace(char, \"\")\n",
    "    plt.savefig(filename[:50]+ \" line.png\", bbox_inches = \"tight\")\n",
    "    if pp != None:\n",
    "        pp.savefig(fig, bbox_inches = \"tight\")\n",
    "        \n",
    "def plot_stacked_lines(df, plot_vars, linewidth = 2, figsize = (40,20), \n",
    "                       pp = None, total_var = False):\n",
    "    fig, ax = plt.subplots(figsize = figsize)\n",
    "    df[plot_vars].plot.area(stacked = True, linewidth = linewidth,\n",
    "                            ax = ax)\n",
    "    # change y vals from mil to tril\n",
    "    \n",
    "    if total_var != False:\n",
    "        df[total_var].plot.line(linewidth = linewidth, ax = ax, c = \"k\",\n",
    "              label = total_var, ls = \"--\")\n",
    "    ax.legend(loc=2, ncol = 2)"
   ]
  },
  {
   "cell_type": "code",
   "execution_count": 2,
   "metadata": {},
   "outputs": [],
   "source": [
    "#FRED.py\n",
    "import pandas as pd\n",
    "import pandas_datareader.data as web\n",
    "import datetime\n",
    "\n",
    "def gather_data(data_codes, start, end = datetime.datetime.today(), freq = \"A\"):\n",
    "    i = 0;\n",
    "    for key, code in data_codes.items():\n",
    "        if i == 0:\n",
    "            df = web.DataReader(code, \"fred\", start, end).resample(freq).mean()\n",
    "            df.rename(columns = {code:key}, inplace = True)\n",
    "            \n",
    "            i = None\n",
    "        else:\n",
    "            df[key] = web.DataReader(code, \"fred\", start, end).resample(freq).mean()\n",
    "            \n",
    "        return df\n",
    "    \n",
    "def bil_to_mil(series):\n",
    "    # multiply billions by 1000 to yield millions\n",
    "    return series * 10 ** 3"
   ]
  },
  {
   "cell_type": "markdown",
   "metadata": {},
   "source": [
    "Now, onto the datasets. I was not too sure as to what direction I wanted to take with this. But after looking around, I stumbled upon some datasets that I would like to jointly observe. My datasets will look at the federal debt. They will showcase the gross federal debt, federal debt held by foreign and international investors and the federal debt held by federal reserve banks."
   ]
  },
  {
   "cell_type": "code",
   "execution_count": 6,
   "metadata": {},
   "outputs": [
    {
     "ename": "SyntaxError",
     "evalue": "invalid syntax (plots.py, line 65)",
     "output_type": "error",
     "traceback": [
      "Traceback \u001b[0;36m(most recent call last)\u001b[0m:\n",
      "  File \u001b[1;32m\"/Users/Tyler/opt/anaconda3/lib/python3.8/site-packages/IPython/core/interactiveshell.py\"\u001b[0m, line \u001b[1;32m3343\u001b[0m, in \u001b[1;35mrun_code\u001b[0m\n    exec(code_obj, self.user_global_ns, self.user_ns)\n",
      "\u001b[0;36m  File \u001b[0;32m\"<ipython-input-6-5f307a91618a>\"\u001b[0;36m, line \u001b[0;32m1\u001b[0;36m, in \u001b[0;35m<module>\u001b[0;36m\u001b[0m\n\u001b[0;31m    from datlib.plots import *\u001b[0m\n",
      "\u001b[0;36m  File \u001b[0;32m\"/Users/Tyler/Desktop/GitHub/Tyler-Lenz-Python-Portfolio/Homework Projects/Untitled Folder/datlib/plots.py\"\u001b[0;36m, line \u001b[0;32m65\u001b[0m\n\u001b[0;31m    df[plot_vars.].plot.area(stacked = True, linewidth = linewidth, ax = ax)\u001b[0m\n\u001b[0m                 ^\u001b[0m\n\u001b[0;31mSyntaxError\u001b[0m\u001b[0;31m:\u001b[0m invalid syntax\n"
     ]
    }
   ],
   "source": [
    "from datlib.plots import *\n",
    "from datlib.FRED import *\n",
    "data_codes = {\"Federal Debt: Gross Federal Debt ($ Bil)\": \"FYGFD\",\n",
    "              \"Federal Debt: Held by Foregin and International Investors ($ Bil)\" : \"FDHBFIN\",\n",
    "              \"Federal Debt: Held by Federal Reserve Banks ($ Bil)\" : \"FDHBFRBN\",         \n",
    "             }\n",
    "\n",
    "start = datetime.datetime(1970,1,1)\n",
    "end = datetime.datetime.today()\n",
    "\n",
    "data = gather_data(data_codes = data_codes, start = start, end = end, freq = \"A\")\n",
    "\n",
    "\n",
    "data"
   ]
  },
  {
   "cell_type": "markdown",
   "metadata": {},
   "source": [
    "Now that we have our data loaded, we can start to analyze it. To start, we can use a stacked line graph, which will show the growth/decay across the years. We will code the function to construct our line graph below:"
   ]
  },
  {
   "cell_type": "code",
   "execution_count": null,
   "metadata": {
    "scrolled": false
   },
   "outputs": [],
   "source": [
    "from datlib.plots import *\n",
    "\n",
    "plt.rcParams.update({\"font.size\":32})\n",
    "plot_lines(df = data, linewidth = 5, figsize = (40, 20), pp = None)"
   ]
  },
  {
   "cell_type": "code",
   "execution_count": null,
   "metadata": {},
   "outputs": [],
   "source": [
    "from datlib.plots import *\n",
    "\n",
    "stack_vars = data_codes = {\"Federal Debt: Gross Federal Debt ($ Bil)\": \"FYGFD\",\n",
    "              \"Federal Debt: Held by Foregin and International Investors ($ Bil)\" : \"FDHBFIN\",\n",
    "              \"Federal Debt: Held by Federal Reserve Banks ($ Bil)\" : \"FDHBFRBN\",         \n",
    "             }\n",
    "\n",
    "plot_stacked_lines(data, stack_vars)"
   ]
  },
  {
   "cell_type": "markdown",
   "metadata": {},
   "source": [
    "Now that we used the line graphs we created earlier, let's try out the time series graph. This should give us a better understanding of what we are looking at. We will use each pair of variables to see if there is any correlation."
   ]
  },
  {
   "cell_type": "code",
   "execution_count": 5,
   "metadata": {},
   "outputs": [
    {
     "ename": "NameError",
     "evalue": "name 'data' is not defined",
     "output_type": "error",
     "traceback": [
      "\u001b[0;31m---------------------------------------------------------------------------\u001b[0m",
      "\u001b[0;31mNameError\u001b[0m                                 Traceback (most recent call last)",
      "\u001b[0;32m<ipython-input-5-77599a9b70a5>\u001b[0m in \u001b[0;36m<module>\u001b[0;34m\u001b[0m\n\u001b[1;32m      3\u001b[0m \u001b[0;34m\u001b[0m\u001b[0m\n\u001b[1;32m      4\u001b[0m \u001b[0mplt\u001b[0m\u001b[0;34m.\u001b[0m\u001b[0mrcParams\u001b[0m\u001b[0;34m.\u001b[0m\u001b[0mupdate\u001b[0m\u001b[0;34m(\u001b[0m\u001b[0;34m{\u001b[0m\u001b[0;34m\"font.size\"\u001b[0m\u001b[0;34m:\u001b[0m\u001b[0;36m32\u001b[0m\u001b[0;34m}\u001b[0m\u001b[0;34m)\u001b[0m\u001b[0;34m\u001b[0m\u001b[0;34m\u001b[0m\u001b[0m\n\u001b[0;32m----> 5\u001b[0;31m \u001b[0mplot_ts_scatter\u001b[0m\u001b[0;34m(\u001b[0m\u001b[0mdata\u001b[0m\u001b[0;34m[\u001b[0m\u001b[0mscatter_vars1\u001b[0m\u001b[0;34m]\u001b[0m\u001b[0;34m)\u001b[0m\u001b[0;34m\u001b[0m\u001b[0;34m\u001b[0m\u001b[0m\n\u001b[0m",
      "\u001b[0;31mNameError\u001b[0m: name 'data' is not defined"
     ]
    }
   ],
   "source": [
    "scatter_vars1 = [\"Federal Debt: Gross Federal Debt ($ Bil)\",\n",
    "              \"Federal Debt: Held by Foregin and International Investors ($ Bil)\"]\n",
    "\n",
    "plt.rcParams.update({\"font.size\":32})\n",
    "plot_ts_scatter(data[scatter_vars1])"
   ]
  },
  {
   "cell_type": "code",
   "execution_count": null,
   "metadata": {},
   "outputs": [],
   "source": [
    "scatter_vars2 = [\"Federal Debt: Gross Federal Debt ($ Bil)\",\n",
    "                \"Federal Debt: Held by Federal Reserve Banks ($ Bil)\"]\n",
    "\n",
    "plt.rcParams.update({\"font.size\":32})\n",
    "plot_ts_scatter(data[scatter_vars2])"
   ]
  },
  {
   "cell_type": "code",
   "execution_count": null,
   "metadata": {},
   "outputs": [],
   "source": [
    "scatter_vars3 = [\"Federal Debt: Held by Foregin and International Investors ($ Bil)\",\n",
    "              \"Federal Debt: Held by Federal Reserve Banks ($ Bil)\"]\n",
    "\n",
    "plt.rcParams.update({\"font.size\":32})\n",
    "plot_ts_scatter(data[scatter_vars2])"
   ]
  },
  {
   "cell_type": "code",
   "execution_count": null,
   "metadata": {},
   "outputs": [],
   "source": []
  }
 ],
 "metadata": {
  "kernelspec": {
   "display_name": "Python 3",
   "language": "python",
   "name": "python3"
  },
  "language_info": {
   "codemirror_mode": {
    "name": "ipython",
    "version": 3
   },
   "file_extension": ".py",
   "mimetype": "text/x-python",
   "name": "python",
   "nbconvert_exporter": "python",
   "pygments_lexer": "ipython3",
   "version": "3.8.3"
  }
 },
 "nbformat": 4,
 "nbformat_minor": 4
}

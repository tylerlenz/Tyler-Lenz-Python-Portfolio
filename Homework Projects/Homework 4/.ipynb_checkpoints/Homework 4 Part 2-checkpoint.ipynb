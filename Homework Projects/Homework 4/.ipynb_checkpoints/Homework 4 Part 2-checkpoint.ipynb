{
 "cells": [
  {
   "cell_type": "markdown",
   "metadata": {},
   "source": [
    "# Homework 4 - Part 2\n",
    "\n",
    "For this assignment, I will be utilizing the nominal gdp, real gdp, and CPI and analyzing correlation. Then, I will calculate the year-over-year percent change and once again check the correlation."
   ]
  },
  {
   "cell_type": "code",
   "execution_count": 1,
   "metadata": {
    "scrolled": false
   },
   "outputs": [
    {
     "data": {
      "text/html": [
       "<div>\n",
       "<style scoped>\n",
       "    .dataframe tbody tr th:only-of-type {\n",
       "        vertical-align: middle;\n",
       "    }\n",
       "\n",
       "    .dataframe tbody tr th {\n",
       "        vertical-align: top;\n",
       "    }\n",
       "\n",
       "    .dataframe thead th {\n",
       "        text-align: right;\n",
       "    }\n",
       "</style>\n",
       "<table border=\"1\" class=\"dataframe\">\n",
       "  <thead>\n",
       "    <tr style=\"text-align: right;\">\n",
       "      <th></th>\n",
       "      <th>GDP: Real Gross Domestic Product</th>\n",
       "      <th>GDP: Gross Domestic Product</th>\n",
       "      <th>Consumer Price Index: Total All Items for the United States</th>\n",
       "    </tr>\n",
       "    <tr>\n",
       "      <th>DATE</th>\n",
       "      <th></th>\n",
       "      <th></th>\n",
       "      <th></th>\n",
       "    </tr>\n",
       "  </thead>\n",
       "  <tbody>\n",
       "    <tr>\n",
       "      <th>1960-03-31</th>\n",
       "      <td>3275.757</td>\n",
       "      <td>542.648</td>\n",
       "      <td>-0.113379</td>\n",
       "    </tr>\n",
       "    <tr>\n",
       "      <th>1960-06-30</th>\n",
       "      <td>3258.088</td>\n",
       "      <td>541.080</td>\n",
       "      <td>0.567537</td>\n",
       "    </tr>\n",
       "    <tr>\n",
       "      <th>1960-09-30</th>\n",
       "      <td>3274.029</td>\n",
       "      <td>545.604</td>\n",
       "      <td>0.225734</td>\n",
       "    </tr>\n",
       "    <tr>\n",
       "      <th>1960-12-31</th>\n",
       "      <td>3232.009</td>\n",
       "      <td>540.197</td>\n",
       "      <td>0.675676</td>\n",
       "    </tr>\n",
       "    <tr>\n",
       "      <th>1961-03-31</th>\n",
       "      <td>3253.826</td>\n",
       "      <td>545.018</td>\n",
       "      <td>0.000000</td>\n",
       "    </tr>\n",
       "    <tr>\n",
       "      <th>...</th>\n",
       "      <td>...</td>\n",
       "      <td>...</td>\n",
       "      <td>...</td>\n",
       "    </tr>\n",
       "    <tr>\n",
       "      <th>2019-06-30</th>\n",
       "      <td>19020.599</td>\n",
       "      <td>21329.877</td>\n",
       "      <td>1.198513</td>\n",
       "    </tr>\n",
       "    <tr>\n",
       "      <th>2019-09-30</th>\n",
       "      <td>19141.744</td>\n",
       "      <td>21540.325</td>\n",
       "      <td>0.274166</td>\n",
       "    </tr>\n",
       "    <tr>\n",
       "      <th>2019-12-31</th>\n",
       "      <td>19253.959</td>\n",
       "      <td>21747.394</td>\n",
       "      <td>0.213018</td>\n",
       "    </tr>\n",
       "    <tr>\n",
       "      <th>2020-03-31</th>\n",
       "      <td>19010.848</td>\n",
       "      <td>21561.139</td>\n",
       "      <td>0.419427</td>\n",
       "    </tr>\n",
       "    <tr>\n",
       "      <th>2020-06-30</th>\n",
       "      <td>17302.511</td>\n",
       "      <td>19520.114</td>\n",
       "      <td>-0.540035</td>\n",
       "    </tr>\n",
       "  </tbody>\n",
       "</table>\n",
       "<p>242 rows × 3 columns</p>\n",
       "</div>"
      ],
      "text/plain": [
       "            GDP: Real Gross Domestic Product  GDP: Gross Domestic Product  \\\n",
       "DATE                                                                        \n",
       "1960-03-31                          3275.757                      542.648   \n",
       "1960-06-30                          3258.088                      541.080   \n",
       "1960-09-30                          3274.029                      545.604   \n",
       "1960-12-31                          3232.009                      540.197   \n",
       "1961-03-31                          3253.826                      545.018   \n",
       "...                                      ...                          ...   \n",
       "2019-06-30                         19020.599                    21329.877   \n",
       "2019-09-30                         19141.744                    21540.325   \n",
       "2019-12-31                         19253.959                    21747.394   \n",
       "2020-03-31                         19010.848                    21561.139   \n",
       "2020-06-30                         17302.511                    19520.114   \n",
       "\n",
       "            Consumer Price Index: Total All Items for the United States  \n",
       "DATE                                                                     \n",
       "1960-03-31                                          -0.113379            \n",
       "1960-06-30                                           0.567537            \n",
       "1960-09-30                                           0.225734            \n",
       "1960-12-31                                           0.675676            \n",
       "1961-03-31                                           0.000000            \n",
       "...                                                       ...            \n",
       "2019-06-30                                           1.198513            \n",
       "2019-09-30                                           0.274166            \n",
       "2019-12-31                                           0.213018            \n",
       "2020-03-31                                           0.419427            \n",
       "2020-06-30                                          -0.540035            \n",
       "\n",
       "[242 rows x 3 columns]"
      ]
     },
     "execution_count": 1,
     "metadata": {},
     "output_type": "execute_result"
    }
   ],
   "source": [
    "from datlib.plots import * \n",
    "from datlib.FRED import *\n",
    "\n",
    "data_codes = {\"GDP: Real Gross Domestic Product\" : \"GDPC1\",\n",
    "             \"GDP: Gross Domestic Product\" : \"GDP\",\n",
    "             \"Consumer Price Index: Total All Items for the United States\" : \"CPALTT01USQ657N\"}\n",
    "\n",
    "start = datetime.datetime(1960, 1, 1)\n",
    "end = datetime.datetime.today()\n",
    "\n",
    "data = gather_data(data_codes = data_codes, start = start, end = end, freq = \"Q\")\n",
    "\n",
    "data"
   ]
  },
  {
   "cell_type": "code",
   "execution_count": 4,
   "metadata": {},
   "outputs": [
    {
     "name": "stdout",
     "output_type": "stream",
     "text": [
      "                                                    GDP: Real Gross Domestic Product  \\\n",
      "GDP: Real Gross Domestic Product                                            1.000000   \n",
      "GDP: Gross Domestic Product                                                 0.989836   \n",
      "Consumer Price Index: Total All Items for the U...                         -0.335559   \n",
      "\n",
      "                                                    GDP: Gross Domestic Product  \\\n",
      "GDP: Real Gross Domestic Product                                       0.989836   \n",
      "GDP: Gross Domestic Product                                            1.000000   \n",
      "Consumer Price Index: Total All Items for the U...                    -0.373237   \n",
      "\n",
      "                                                    Consumer Price Index: Total All Items for the United States  \n",
      "GDP: Real Gross Domestic Product                                                            -0.335559            \n",
      "GDP: Gross Domestic Product                                                                 -0.373237            \n",
      "Consumer Price Index: Total All Items for the U...                                           1.000000            \n"
     ]
    },
    {
     "data": {
      "image/png": "[encoded data removed]",
      "text/plain": [
       "<Figure size 432x288 with 2 Axes>"
      ]
     },
     "metadata": {
      "needs_background": "light"
     },
     "output_type": "display_data"
    }
   ],
   "source": [
    "import seaborn as sn\n",
    "\n",
    "corrMatrix = data.corr()\n",
    "print (corrMatrix)\n",
    "sn.heatmap(corrMatrix, annot=True)\n",
    "plt.show()"
   ]
  },
  {
   "cell_type": "code",
   "execution_count": null,
   "metadata": {},
   "outputs": [],
   "source": []
  }
 ],
 "metadata": {
  "kernelspec": {
   "display_name": "Python 3",
   "language": "python",
   "name": "python3"
  },
  "language_info": {
   "codemirror_mode": {
    "name": "ipython",
    "version": 3
   },
   "file_extension": ".py",
   "mimetype": "text/x-python",
   "name": "python",
   "nbconvert_exporter": "python",
   "pygments_lexer": "ipython3",
   "version": "3.8.3"
  }
 },
 "nbformat": 4,
 "nbformat_minor": 4
}

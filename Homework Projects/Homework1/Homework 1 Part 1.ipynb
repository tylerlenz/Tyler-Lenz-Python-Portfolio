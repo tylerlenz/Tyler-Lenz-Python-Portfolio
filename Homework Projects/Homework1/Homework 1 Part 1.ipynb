{
 "cells": [
  {
   "cell_type": "markdown",
   "metadata": {},
   "source": [
    "# A Little About me and my Future Goals\n",
    "\n",
    "Strategies used:\n",
    "\n",
    "* Dictionaries (ojbect keys and values)\n",
    "\n",
    "This directory will slightly describe myself and what I've done throughout my college career."
   ]
  },
  {
   "cell_type": "code",
   "execution_count": 25,
   "metadata": {},
   "outputs": [
    {
     "name": "stdout",
     "output_type": "stream",
     "text": [
      "{'Tyler': {'Name': 'Tyler Lenz', 'Program': 'Majoring in Math & Stats, Minoring in Economics & Computer Science', 'Motivation': 'I am very interested in linear programming/networking, so this class seems very applicable. It also seemed like the most interesting elective.', 'Future Plans': 'I am still undetermined. With the current pandemic situation, a lot of my summer plans got canceled with internships and such. But, I would love to work somewhere where I can play with big data and do company projections for something that interests me. But my ultimate dream is to work for a sports franchise and work on player values.'}}\n"
     ]
    },
    {
     "data": {
      "text/html": [
       "<div>\n",
       "<style scoped>\n",
       "    .dataframe tbody tr th:only-of-type {\n",
       "        vertical-align: middle;\n",
       "    }\n",
       "\n",
       "    .dataframe tbody tr th {\n",
       "        vertical-align: top;\n",
       "    }\n",
       "\n",
       "    .dataframe thead th {\n",
       "        text-align: right;\n",
       "    }\n",
       "</style>\n",
       "<table border=\"1\" class=\"dataframe\">\n",
       "  <thead>\n",
       "    <tr style=\"text-align: right;\">\n",
       "      <th></th>\n",
       "      <th>Tyler</th>\n",
       "    </tr>\n",
       "  </thead>\n",
       "  <tbody>\n",
       "    <tr>\n",
       "      <th>Future Plans</th>\n",
       "      <td>I am still undetermined. With the current pand...</td>\n",
       "    </tr>\n",
       "    <tr>\n",
       "      <th>Motivation</th>\n",
       "      <td>I am very interested in linear programming/net...</td>\n",
       "    </tr>\n",
       "    <tr>\n",
       "      <th>Name</th>\n",
       "      <td>Tyler Lenz</td>\n",
       "    </tr>\n",
       "    <tr>\n",
       "      <th>Program</th>\n",
       "      <td>Majoring in Math &amp; Stats, Minoring in Economic...</td>\n",
       "    </tr>\n",
       "  </tbody>\n",
       "</table>\n",
       "</div>"
      ],
      "text/plain": [
       "                                                          Tyler\n",
       "Future Plans  I am still undetermined. With the current pand...\n",
       "Motivation    I am very interested in linear programming/net...\n",
       "Name                                                 Tyler Lenz\n",
       "Program       Majoring in Math & Stats, Minoring in Economic..."
      ]
     },
     "execution_count": 25,
     "metadata": {},
     "output_type": "execute_result"
    }
   ],
   "source": [
    "dct={\"Tyler\": {\"Name\":\"Tyler Lenz\", \"Program\":\"Majoring in Math & Stats, Minoring in Economics & Computer Science\", \"Motivation\":\"I am very interested in linear programming/networking, so this class seems very applicable. It also seemed like the most interesting elective.\", \"Future Plans\":\"I am still undetermined. With the current pandemic situation, a lot of my summer plans got canceled with internships and such. But, I would love to work somewhere where I can play with big data and do company projections for something that interests me. But my ultimate dream is to work for a sports franchise and work on player values.\"}}\n",
    "\n",
    "print(dct)\n",
    "\n",
    "import pandas as pd\n",
    "df = pd.DataFrame(dct)\n",
    "df.to_csv(\"Homework1Part1.csv\")\n",
    "df"
   ]
  },
  {
   "cell_type": "code",
   "execution_count": null,
   "metadata": {
    "scrolled": false
   },
   "outputs": [],
   "source": []
  },
  {
   "cell_type": "code",
   "execution_count": null,
   "metadata": {},
   "outputs": [],
   "source": []
  },
  {
   "cell_type": "code",
   "execution_count": null,
   "metadata": {},
   "outputs": [],
   "source": []
  }
 ],
 "metadata": {
  "kernelspec": {
   "display_name": "Python 3",
   "language": "python",
   "name": "python3"
  },
  "language_info": {
   "codemirror_mode": {
    "name": "ipython",
    "version": 3
   },
   "file_extension": ".py",
   "mimetype": "text/x-python",
   "name": "python",
   "nbconvert_exporter": "python",
   "pygments_lexer": "ipython3",
   "version": "3.7.6"
  }
 },
 "nbformat": 4,
 "nbformat_minor": 4
}

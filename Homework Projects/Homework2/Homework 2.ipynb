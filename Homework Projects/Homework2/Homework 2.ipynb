{
 "cells": [
  {
   "cell_type": "markdown",
   "metadata": {},
   "source": [
    "# Homework 2 - Working with \"for\" loops and interest rates\n",
    "\n",
    "Strategies exercised:\n",
    "\n",
    "* For loops\n",
    "\n",
    "* Importing packages\n",
    "\n",
    "* Showing more proficiency with dictionaries\n",
    "\n",
    "This assignment will display the use of for loops to see the amount of time it would take for an investment to double with different interst rates.\n",
    "\n",
    "When looking at the amount of time it takes for an investment to double, the rule of 72 is often brought up. I had never heard of this, so I did some research on Investopedia. From what I read, the rule of 72 is a simplified way to estimate the doubling of an investment's value, based on a logarithmic formula. The actual formula is:\n",
    "\n",
    "* Years to Double = (72)/(Interest Rate), where interest rate = rate of return on an investment."
   ]
  },
  {
   "cell_type": "code",
   "execution_count": 5,
   "metadata": {},
   "outputs": [
    {
     "name": "stdout",
     "output_type": "stream",
     "text": [
      "      Time To Double  Rule of 70  Computational Solution\n",
      "0.5       138.975722  140.000000              144.000000\n",
      "1.0        69.660717   70.000000               72.000000\n",
      "1.5        46.555526   46.666667               48.000000\n",
      "2.0        35.002789   35.000000               36.000000\n",
      "2.5        28.071035   28.000000               28.800000\n",
      "3.0        23.449772   23.333333               24.000000\n",
      "3.5        20.148792   20.000000               20.571429\n",
      "4.0        17.672988   17.500000               18.000000\n",
      "4.5        15.747302   15.555556               16.000000\n",
      "5.0        14.206699   14.000000               14.400000\n",
      "5.5        12.946157   12.727273               13.090909\n",
      "6.0        11.895661   11.666667               12.000000\n",
      "6.5        11.006739   10.769231               11.076923\n",
      "7.0        10.244768   10.000000               10.285714\n",
      "7.5         9.584359    9.333333                9.600000\n",
      "8.0         9.006468    8.750000                9.000000\n",
      "8.5         8.496535    8.235294                8.470588\n",
      "9.0         8.043232    7.777778                8.000000\n",
      "9.5         7.637618    7.368421                7.578947\n",
      "10.0        7.272541    7.000000                7.200000\n"
     ]
    }
   ],
   "source": [
    "import math\n",
    "import numpy as np\n",
    "dct = {}\n",
    "dct[\"Time To Double\"] = {}\n",
    "dct[\"Rule of 70\"]={}\n",
    "dct[\"Computational Solution\"]={}\n",
    "for i in range(1,21):\n",
    "    i = i/2\n",
    "    timeTodouble=math.log(2)/math.log(1+i/100)\n",
    "    rule70=70/i\n",
    "    comp = 72/i\n",
    "    dct[\"Time To Double\"][i] = timeTodouble\n",
    "    dct[\"Rule of 70\"][i] = rule70\n",
    "    dct[\"Computational Solution\"][i] = comp\n",
    "    \n",
    "import pandas as pd\n",
    "\n",
    "df = pd.DataFrame(dct)\n",
    "print(df)\n",
    "\n",
    "df.to_csv(\"InterestRate.csv\")"
   ]
  },
  {
   "cell_type": "code",
   "execution_count": null,
   "metadata": {},
   "outputs": [],
   "source": []
  }
 ],
 "metadata": {
  "kernelspec": {
   "display_name": "Python 3",
   "language": "python",
   "name": "python3"
  },
  "language_info": {
   "codemirror_mode": {
    "name": "ipython",
    "version": 3
   },
   "file_extension": ".py",
   "mimetype": "text/x-python",
   "name": "python",
   "nbconvert_exporter": "python",
   "pygments_lexer": "ipython3",
   "version": "3.7.6"
  }
 },
 "nbformat": 4,
 "nbformat_minor": 4
}

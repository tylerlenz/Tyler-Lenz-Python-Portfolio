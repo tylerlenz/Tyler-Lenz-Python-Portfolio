{
 "cells": [
  {
   "cell_type": "markdown",
   "metadata": {},
   "source": [
    "# Project 1: My First Jupyter Project\n",
    "\n",
    "## Goal\n",
    "\n",
    "* What is a dictionary?\n",
    "\n",
    "* Where can I find information on this?\n",
    "\n",
    "* What makes a dictionary useful?\n",
    "\n",
    "# What is a dictionary?\n",
    "\n",
    "A dictionary is a fundemental data structure that stores data objects that are linked to keys. Data objects can be strings (\"text\"), numbers (floats or integers), dataframes, etc.\n",
    "\n",
    "These can be easy to navigate and store large sets of data with their keys and key values.\n",
    "\n",
    "What are keys?: Keys are inputs linked to a specific output. \n",
    "\n",
    "Dictionaries help show the relationship in this fashion {key:object}. These may seem very basic, as it is no different than a true dictionary, where the words would be the 'keys' and the definitions would be the 'objects'. Like in regards to a language, dictionaries are a building block for coding.\n",
    "\n",
    "For example, we can create a basic dictionary that shows a few Chevrolet models.\n",
    "\n",
    "See Chevrolet models:"
   ]
  },
  {
   "cell_type": "code",
   "execution_count": 4,
   "metadata": {},
   "outputs": [
    {
     "name": "stdout",
     "output_type": "stream",
     "text": [
      "{'Silverado': {}, 'Cruze': {}, 'Malibu': {}}\n"
     ]
    }
   ],
   "source": [
    "dct = {\"Silverado\":{},\n",
    "      \"Cruze\":{},\n",
    "      \"Malibu\":{}}\n",
    "print(dct)"
   ]
  },
  {
   "cell_type": "markdown",
   "metadata": {},
   "source": [
    "That's pretty easy. Now, we can take things a step further and show their prices and city/highway mileage respectively."
   ]
  },
  {
   "cell_type": "code",
   "execution_count": 3,
   "metadata": {},
   "outputs": [
    {
     "data": {
      "text/plain": [
       "{'Silverado': {'Price': 'Starting at $28,500', 'MPG': '23 city, 33 hwy'},\n",
       " 'Cruze': {'Price': 'Starting at $17,000', 'MPG': '28 city, 39 hwy'},\n",
       " 'Malibu': {'Price': 'Starting at $22,140', 'MPG': '29 city, 36 hwy'}}"
      ]
     },
     "execution_count": 3,
     "metadata": {},
     "output_type": "execute_result"
    }
   ],
   "source": [
    "dcti = {\"Silverado\": {\"Price\": \"Starting at $28,500\", \"MPG\": \"23 city, 33 hwy\"},\n",
    "      \"Cruze\":{\"Price\": \"Starting at $17,000\", \"MPG\": \"28 city, 39 hwy\"},\n",
    "      \"Malibu\": {\"Price\": \"Starting at $22,140\", \"MPG\": \"29 city, 36 hwy\"}}\n",
    "dcti\n"
   ]
  },
  {
   "cell_type": "markdown",
   "metadata": {},
   "source": [
    "Now, we can see how the keys are related to their objects. This helps us understand their relationship a little more, even though this is barely scratching the surface! But, that format can be confusing. \n",
    "\n",
    "We can introduce a package that allows us to format our dictionaries into a table. This package is called \"pandas\", see below:"
   ]
  },
  {
   "cell_type": "code",
   "execution_count": 8,
   "metadata": {},
   "outputs": [
    {
     "data": {
      "text/html": [
       "<div>\n",
       "<style scoped>\n",
       "    .dataframe tbody tr th:only-of-type {\n",
       "        vertical-align: middle;\n",
       "    }\n",
       "\n",
       "    .dataframe tbody tr th {\n",
       "        vertical-align: top;\n",
       "    }\n",
       "\n",
       "    .dataframe thead th {\n",
       "        text-align: right;\n",
       "    }\n",
       "</style>\n",
       "<table border=\"1\" class=\"dataframe\">\n",
       "  <thead>\n",
       "    <tr style=\"text-align: right;\">\n",
       "      <th></th>\n",
       "      <th>Silverado</th>\n",
       "      <th>Cruze</th>\n",
       "      <th>Malibu</th>\n",
       "    </tr>\n",
       "  </thead>\n",
       "  <tbody>\n",
       "    <tr>\n",
       "      <th>Price</th>\n",
       "      <td>Starting at $28,500</td>\n",
       "      <td>Starting at $17,000</td>\n",
       "      <td>Starting at $22,140</td>\n",
       "    </tr>\n",
       "    <tr>\n",
       "      <th>MPG</th>\n",
       "      <td>23 city, 33 hwy</td>\n",
       "      <td>28 city, 39 hwy</td>\n",
       "      <td>29 city, 36 hwy</td>\n",
       "    </tr>\n",
       "  </tbody>\n",
       "</table>\n",
       "</div>"
      ],
      "text/plain": [
       "                 Silverado                Cruze               Malibu\n",
       "Price  Starting at $28,500  Starting at $17,000  Starting at $22,140\n",
       "MPG        23 city, 33 hwy      28 city, 39 hwy      29 city, 36 hwy"
      ]
     },
     "execution_count": 8,
     "metadata": {},
     "output_type": "execute_result"
    }
   ],
   "source": [
    "dcti = {\"Silverado\": {\"Price\": \"Starting at $28,500\", \"MPG\": \"23 city, 33 hwy\"},\n",
    "      \"Cruze\":{\"Price\": \"Starting at $17,000\", \"MPG\": \"28 city, 39 hwy\"},\n",
    "      \"Malibu\": {\"Price\": \"Starting at $22,140\", \"MPG\": \"29 city, 36 hwy\"}}\n",
    "dcti\n",
    "\n",
    "import pandas as pd\n",
    "df=pd.DataFrame(dcti)\n",
    "df"
   ]
  },
  {
   "cell_type": "markdown",
   "metadata": {},
   "source": [
    "We can go even more in-depth, but you get the picture! Once you get the hang of doing this in small portions, larger dictionaries can be created in the same fashion, but the formatting may get more cluttered. They are not the most efficient tools, but it's something you should know about. There is a different way that we could write to our dictionary, which would make things much easier when it comes to large dictionaries with many keys. I will use the same example, just in a different fashion.\n",
    "\n",
    "See:"
   ]
  },
  {
   "cell_type": "code",
   "execution_count": 10,
   "metadata": {},
   "outputs": [
    {
     "data": {
      "text/html": [
       "<div>\n",
       "<style scoped>\n",
       "    .dataframe tbody tr th:only-of-type {\n",
       "        vertical-align: middle;\n",
       "    }\n",
       "\n",
       "    .dataframe tbody tr th {\n",
       "        vertical-align: top;\n",
       "    }\n",
       "\n",
       "    .dataframe thead th {\n",
       "        text-align: right;\n",
       "    }\n",
       "</style>\n",
       "<table border=\"1\" class=\"dataframe\">\n",
       "  <thead>\n",
       "    <tr style=\"text-align: right;\">\n",
       "      <th></th>\n",
       "      <th>Silverado</th>\n",
       "      <th>Cruze</th>\n",
       "      <th>Malibu</th>\n",
       "    </tr>\n",
       "  </thead>\n",
       "  <tbody>\n",
       "    <tr>\n",
       "      <th>Price</th>\n",
       "      <td>Starting at $28,500</td>\n",
       "      <td>Starting at $17,000</td>\n",
       "      <td>Starting at $22,140</td>\n",
       "    </tr>\n",
       "    <tr>\n",
       "      <th>MPG</th>\n",
       "      <td>23 city, 33 hwy</td>\n",
       "      <td>28 city, 39 hwy</td>\n",
       "      <td>29 city, 36 hwy</td>\n",
       "    </tr>\n",
       "  </tbody>\n",
       "</table>\n",
       "</div>"
      ],
      "text/plain": [
       "                 Silverado                Cruze               Malibu\n",
       "Price  Starting at $28,500  Starting at $17,000  Starting at $22,140\n",
       "MPG        23 city, 33 hwy      28 city, 39 hwy      29 city, 36 hwy"
      ]
     },
     "execution_count": 10,
     "metadata": {},
     "output_type": "execute_result"
    }
   ],
   "source": [
    "dic2 = {\"Silverado\":{},\n",
    "      \"Cruze\":{},\n",
    "      \"Malibu\":{}}\n",
    "\n",
    "dic2[\"Silverado\"][\"Price\"] = \"Starting at $28,500\"\n",
    "dic2[\"Silverado\"][\"MPG\"] = \"23 city, 33 hwy\"\n",
    "dic2[\"Cruze\"][\"Price\"] = \"Starting at $17,000\"\n",
    "dic2[\"Cruze\"][\"MPG\"] = \"28 city, 39 hwy\"\n",
    "dic2[\"Malibu\"][\"Price\"] = \"Starting at $22,140\"\n",
    "dic2[\"Malibu\"][\"MPG\"] = \"29 city, 36 hwy\"\n",
    "\n",
    "dic2\n",
    "\n",
    "df2=pd.DataFrame(dic2)\n",
    "df2"
   ]
  },
  {
   "cell_type": "markdown",
   "metadata": {},
   "source": [
    "As you can see, the exact same thing happened! But, this time, with less clutter. This can be an easier method if you are trying to work with shorter lines. Formatting your dictionary this way can also help with decreased troubleshooting time if you run into a problem."
   ]
  },
  {
   "cell_type": "markdown",
   "metadata": {},
   "source": [
    "Now since we know how to form dictionaries and how they work, lets make a dictionary for the Agribusiness department at NDSU.\n",
    "\n",
    "See:"
   ]
  },
  {
   "cell_type": "code",
   "execution_count": 12,
   "metadata": {},
   "outputs": [
    {
     "data": {
      "text/html": [
       "<div>\n",
       "<style scoped>\n",
       "    .dataframe tbody tr th:only-of-type {\n",
       "        vertical-align: middle;\n",
       "    }\n",
       "\n",
       "    .dataframe tbody tr th {\n",
       "        vertical-align: top;\n",
       "    }\n",
       "\n",
       "    .dataframe thead th {\n",
       "        text-align: right;\n",
       "    }\n",
       "</style>\n",
       "<table border=\"1\" class=\"dataframe\">\n",
       "  <thead>\n",
       "    <tr style=\"text-align: right;\">\n",
       "      <th></th>\n",
       "      <th>William Nganje</th>\n",
       "      <th>David Bullock</th>\n",
       "      <th>James Caton</th>\n",
       "      <th>David Englund</th>\n",
       "      <th>Erik Hanson</th>\n",
       "      <th>Jeremy Jackson</th>\n",
       "      <th>Siew Lim</th>\n",
       "      <th>Zachary Machunda</th>\n",
       "      <th>Raymond March</th>\n",
       "      <th>Lei Zhang</th>\n",
       "    </tr>\n",
       "  </thead>\n",
       "  <tbody>\n",
       "    <tr>\n",
       "      <th>Website</th>\n",
       "      <td>https://www.ndsu.edu/agecon/faculty/william_ng...</td>\n",
       "      <td>https://www.ndsu.edu/agecon/faculty/bullock/#c...</td>\n",
       "      <td>https://www.ndsu.edu/centers/pcpe/about/direct...</td>\n",
       "      <td>https://www.ndsu.edu/agecon/faculty/englund/#c...</td>\n",
       "      <td>https://www.ndsu.edu/agecon/faculty/hanson/#c6...</td>\n",
       "      <td>http://jeremyjacksonphd.com/</td>\n",
       "      <td>https://www.ndsu.edu/agecon/faculty/lim/#c624837</td>\n",
       "      <td>https://www.ndsu.edu/agecon/faculty/machunda/#...</td>\n",
       "      <td>https://www.ndsu.edu/centers/pcpe/about/direct...</td>\n",
       "      <td>https://www.ndsu.edu/agecon/faculty/zhang/</td>\n",
       "    </tr>\n",
       "    <tr>\n",
       "      <th>Areas of Specialization</th>\n",
       "      <td>Risk management; financial analysis; economics...</td>\n",
       "      <td>futures and options markets, over-the-counter ...</td>\n",
       "      <td>Entrepreneurship, Institutions, Macroeconomics...</td>\n",
       "      <td>Teaches Economic Principles, Led NDSU NAMA to ...</td>\n",
       "      <td>Ag Management, Ag Finance</td>\n",
       "      <td>Microeconomics, public economics, and game theory</td>\n",
       "      <td>Microeconomics, industries, econometrics</td>\n",
       "      <td>Teaching first year experience and mentoring</td>\n",
       "      <td>Microeconomics, economic thought, and health e...</td>\n",
       "      <td>Macroeconomics, spatial economics</td>\n",
       "    </tr>\n",
       "    <tr>\n",
       "      <th>Bio</th>\n",
       "      <td>NA</td>\n",
       "      <td>Dr. David W. Bullock is a Research Associate P...</td>\n",
       "      <td>James Caton is a faculty fellow at the NDSU Ce...</td>\n",
       "      <td>David Englund is a lecturer in the department....</td>\n",
       "      <td>Erik Hanson is an Assistant Professor in the D...</td>\n",
       "      <td>Jeremy Jackson is the director of the NDSU Cen...</td>\n",
       "      <td>Siew Hoon Lim is an associate professor of eco...</td>\n",
       "      <td>Dr. Zachary B. Machunda joined the Department ...</td>\n",
       "      <td>Raymond March is a faculty fellow at the NDSU ...</td>\n",
       "      <td>Lei Zhang is an Associate Professor of Economi...</td>\n",
       "    </tr>\n",
       "  </tbody>\n",
       "</table>\n",
       "</div>"
      ],
      "text/plain": [
       "                                                            William Nganje  \\\n",
       "Website                  https://www.ndsu.edu/agecon/faculty/william_ng...   \n",
       "Areas of Specialization  Risk management; financial analysis; economics...   \n",
       "Bio                                                                     NA   \n",
       "\n",
       "                                                             David Bullock  \\\n",
       "Website                  https://www.ndsu.edu/agecon/faculty/bullock/#c...   \n",
       "Areas of Specialization  futures and options markets, over-the-counter ...   \n",
       "Bio                      Dr. David W. Bullock is a Research Associate P...   \n",
       "\n",
       "                                                               James Caton  \\\n",
       "Website                  https://www.ndsu.edu/centers/pcpe/about/direct...   \n",
       "Areas of Specialization  Entrepreneurship, Institutions, Macroeconomics...   \n",
       "Bio                      James Caton is a faculty fellow at the NDSU Ce...   \n",
       "\n",
       "                                                             David Englund  \\\n",
       "Website                  https://www.ndsu.edu/agecon/faculty/englund/#c...   \n",
       "Areas of Specialization  Teaches Economic Principles, Led NDSU NAMA to ...   \n",
       "Bio                      David Englund is a lecturer in the department....   \n",
       "\n",
       "                                                               Erik Hanson  \\\n",
       "Website                  https://www.ndsu.edu/agecon/faculty/hanson/#c6...   \n",
       "Areas of Specialization                          Ag Management, Ag Finance   \n",
       "Bio                      Erik Hanson is an Assistant Professor in the D...   \n",
       "\n",
       "                                                            Jeremy Jackson  \\\n",
       "Website                                       http://jeremyjacksonphd.com/   \n",
       "Areas of Specialization  Microeconomics, public economics, and game theory   \n",
       "Bio                      Jeremy Jackson is the director of the NDSU Cen...   \n",
       "\n",
       "                                                                  Siew Lim  \\\n",
       "Website                   https://www.ndsu.edu/agecon/faculty/lim/#c624837   \n",
       "Areas of Specialization           Microeconomics, industries, econometrics   \n",
       "Bio                      Siew Hoon Lim is an associate professor of eco...   \n",
       "\n",
       "                                                          Zachary Machunda  \\\n",
       "Website                  https://www.ndsu.edu/agecon/faculty/machunda/#...   \n",
       "Areas of Specialization       Teaching first year experience and mentoring   \n",
       "Bio                      Dr. Zachary B. Machunda joined the Department ...   \n",
       "\n",
       "                                                             Raymond March  \\\n",
       "Website                  https://www.ndsu.edu/centers/pcpe/about/direct...   \n",
       "Areas of Specialization  Microeconomics, economic thought, and health e...   \n",
       "Bio                      Raymond March is a faculty fellow at the NDSU ...   \n",
       "\n",
       "                                                                 Lei Zhang  \n",
       "Website                         https://www.ndsu.edu/agecon/faculty/zhang/  \n",
       "Areas of Specialization                  Macroeconomics, spatial economics  \n",
       "Bio                      Lei Zhang is an Associate Professor of Economi...  "
      ]
     },
     "execution_count": 12,
     "metadata": {},
     "output_type": "execute_result"
    }
   ],
   "source": [
    "faculty_dict =  {\"William Nganje\":{\"Website\":\"https://www.ndsu.edu/agecon/faculty/william_nganje/#c622350\", \n",
    "                                \"Areas of Specialization\":\"Risk management; financial analysis; economics of obesity, food safety and food terrorism; experimental economics; and consumer choice theory\",\n",
    "                                \"Bio\":\"NA\"},\n",
    "                 \"David Bullock\": {\"Website\":\"https://www.ndsu.edu/agecon/faculty/bullock/#c622728\",\n",
    "                                \"Areas of Specialization\": \"futures and options markets, over-the-counter derivatives, trading, risk management, agrifinance, Monte Carlo simulation, and Big Data\",\n",
    "                                \"Bio\":\"Dr. David W. Bullock is a Research Associate Professor affiliated with the Center for Trading and Risk at NDSU.  His research interests include futures and options markets, over-the-counter derivatives, trading, risk management, agrifinance, Monte Carlo simulation, and Big Data applications in agriculture.  His academic research in option portfolio theory has been published in both the Journal of Economics and Business and the International Review of Economics and Finance.  Additionally, he was the primary contributor behind the AgriBank Insights publication series which won a National AgriMarketing Association (NAMA) award for the best company publication in 2016. Before coming to NDSU in January 2018, Dr. Bullock held numerous positions for over 25 years in the government and private sectors including the Senior Economist at AgriBank FCB – the regional Farm Credit System funding bank for the Upper Midwest region, Director of Research and Senior Foods Economist at Fortune 500 commodity risk management firm INTL FCStone Inc., the Senior Dairy Analyst at Informa Economics, a Risk Management Specialist with the Minnesota Department of Agriculture, and the Senior Economist at the Minneapolis Grain Exchange. David began his academic career as an Assistant Professor and Extension Marketing Economist at Montana State University after graduating from Iowa State University with a Ph.D. in agricultural economics with fields in agricultural price analysis and econometrics in 1989.  Prior to entering ISU, he received bachelor’s (1982) and master’s (1984) degrees in agricultural economics from Northwest Missouri State University. Dr. Bullock is originally from the small northwestern Missouri farming community of Lathrop which is located 40 miles north of the Kansas City metropolitan area.  While in high school, he served as a regional state Vice-President in the Future Farmers of America (FFA) during his senior year.\"},\n",
    "                 \"James Caton\": {\"Website\":\"https://www.ndsu.edu/centers/pcpe/about/directory/james_caton/\",\n",
    "                                \"Areas of Specialization\": \"Entrepreneurship, Institutions, Macroeconomics, Computation\",\n",
    "                                \"Bio\":\"James Caton is a faculty fellow at the NDSU Center for the Study of Public Choice and Private Enterprise (PCPE) and an assistant professor in the NDSU Department of Agribusiness and Applied Economics. He teaches undergraduate courses in the areas of macroeconomics, international trade, and computation. He specializes in research related to entrepreneurship, agent-based computational economics, market process theory, and monetary economics. His research has been published in the Southern Economic Journal, Erasmus Journal for Philosophy and Economics, Journal of Entrepreneurship and Public Policy and other academic publications. He co-edited Macroeconomics, a two volume set of essays and primary sources that represent the core of macroeconomic thought. He is also a regular contributor to the American Institute for Economic Research's Sound Money Project, which conducts research and promotes awareness about monetary stability and financial privacy. He resides in Fargo with his wife, Ingrid, and their children.\"},\n",
    "                 \"David Englund\": {\"Website\":\"https://www.ndsu.edu/agecon/faculty/englund/#c622903\",\n",
    "                                \"Areas of Specialization\": \"Teaches Economic Principles, Led NDSU NAMA to National Champions\",\n",
    "                                \"Bio\":\"David Englund is a lecturer in the department.  He came to the department with 16 years of teaching experience, having taught Principles of Microeconomics, Principles of Macroeconomics, Money and Banking, Consumer Behavior, Selected Topics in Business, and several other classes.  He also had 10 years’ experience advising student NAMA chapters, having been awarded the Outstanding Advisor of the Year for a Developing Chapter in 2002, and the Outstanding Advisor of the Year award in 2009.\\nDavid primarily teaches Survey of Economics, Principles of Microeconomics, Skills for Academic Success, Agricultural Marketing, and NAMA (co-teaches).  He joined the NAMA team in the 2014-2015 school year as a co-advisor and helped coach the student team to a 3rd place finish in the national student marketing plan competition at the national conference.\\nSome of David’s outside interests are jogging, photography, and writing fiction novels.  His latest release, Camouflaged Encounters has received positive reviews.\"},\n",
    "                 \"Erik Hanson\": {\"Website\":\"https://www.ndsu.edu/agecon/faculty/hanson/#c622905\",\n",
    "                                \"Areas of Specialization\": \"Ag Management, Ag Finance\",\n",
    "                                \"Bio\":\"Erik Hanson is an Assistant Professor in the Department of Agricultural and Applied Economics. He teaches courses on agribusiness management and agricultural finance. Erik completed his Ph.D. at the University of Minnesota in 2016. Prior to that, Erik completed a master’s degree at the University of Illinois (2013) and a bachelor’s degree at Minnesota State University Moorhead (2011).\"},\n",
    "                \"Jeremy Jackson\":{\"Website\":\"http://jeremyjacksonphd.com/\", \n",
    "                                \"Areas of Specialization\": \"Microeconomics, public economics, and game theory\",\n",
    "                                \"Bio\":\"Jeremy Jackson is the director of the NDSU Center for the Study of Public Choice and Private Enterprise (PCPE) and a professor in the NDSU Department of Agribusiness and Applied Economics. He teaches undergraduate and graduate courses in the areas of microeconomics, public economics, and game theory and strategy. His research covers diverse topics, including public choice and the political economy; the social consequences of economic freedom; happiness and well-being; and philanthropy and nonprofits. His research has been published in Applied Economics, The Independent Review, Public Choice, Contemporary Economic Policy, Journal of Happiness Studies, and other refereed and non-refereed sources. He is a member of the Foundation for Economic Education Faculty Network, American Economic Association, Association of Private Enterprise Education, Omnicron Delta Epsilon, Public Choice Society, and Association for Public Economic Theory.\"},\n",
    "                \"Siew Lim\":{\"Website\":\"https://www.ndsu.edu/agecon/faculty/lim/#c624837\",\n",
    "                                \"Areas of Specialization\": \"Microeconomics, industries, econometrics\",\n",
    "                                \"Bio\":\"Siew Hoon Lim is an associate professor of economics. Her current research is in applied microeconomics, production economics, industrial organization, transportation and regional development. Her recent research works include transportation and  regional development.\"},\n",
    "                \"Zachary Machunda\":{\"Website\":\"https://www.ndsu.edu/agecon/faculty/machunda/#c624843\",\n",
    "                                \"Areas of Specialization\": \"Teaching first year experience and mentoring\",\n",
    "                                \"Bio\": \"Dr. Zachary B. Machunda joined the Department of Agribusiness and Applied Economics at NDSU in fall, 2015. Prior to assuming his current teaching position, Dr. Machunda taught Principles of Microeconomics at three universities in the United States of America: Minnesota State University Moorhead, Indiana University, Bloomington and the University of Minnesota-Crookston. Dr. Machunda has taught the following courses at the university level: Principles of Microeconomics, Principles of Macroeconomics, Introductory Statistics for regional planning majors, Essentials of Economics (The American Economy), Global Economic Issues and the Economics of Poverty, Discrimination and Inequality.\"},\n",
    "                \"Raymond March\":{\"Website\": \"https://www.ndsu.edu/centers/pcpe/about/directory/raymond_march/\",\n",
    "                                \"Areas of Specialization\": \"Microeconomics, economic thought, and health economics\",\n",
    "                                \"Bio\": \"Raymond March is a faculty fellow at the NDSU Center for the Study of Public Choice and Private Enterprise (PCPE) and an assistant professor in the NDSU Department of Agribusiness and Applied Economics. He teaches courses in microeconomics, the history of economic thought, and health economics. His research examines the public and private provision and governance of health care in the United States, particularly in pharmaceutical markets. His research has appeared in Research Policy, Journal of Institutional Economics, International Review of Economics, Journal of Health Care and Finance, and other academic publications. He has published articles in the Washington Examiner, The Hill, Real Clear Health, Sun Sentinel, and elsewhere.\"},\n",
    "                \"Lei Zhang\": {\"Website\": \"https://www.ndsu.edu/agecon/faculty/zhang/\",\n",
    "                                 \"Areas of Specialization\": \"Macroeconomics, spatial economics\",\n",
    "                                 \"Bio\": \"Lei Zhang is an Associate Professor of Economics. Her primary research fields include applied econometrics (especially spatial econometrics), and urban and regional economics. Her current research focuses on a variety of housing related issues. She received the North American Colleges and Teachers of Agriculture Teaching Award in 2017.\"}}\n",
    "\n",
    "import pandas as pd\n",
    "df = pd.DataFrame(faculty_dict)\n",
    "df.to_csv(\"NDSUFacultyDictionary.csv\")\n",
    "df\n"
   ]
  },
  {
   "cell_type": "code",
   "execution_count": null,
   "metadata": {},
   "outputs": [],
   "source": []
  }
 ],
 "metadata": {
  "kernelspec": {
   "display_name": "Python 3",
   "language": "python",
   "name": "python3"
  },
  "language_info": {
   "codemirror_mode": {
    "name": "ipython",
    "version": 3
   },
   "file_extension": ".py",
   "mimetype": "text/x-python",
   "name": "python",
   "nbconvert_exporter": "python",
   "pygments_lexer": "ipython3",
   "version": "3.7.6"
  }
 },
 "nbformat": 4,
 "nbformat_minor": 4
}

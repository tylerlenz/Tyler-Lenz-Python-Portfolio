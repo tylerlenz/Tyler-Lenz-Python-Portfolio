{
 "cells": [
  {
   "cell_type": "markdown",
   "metadata": {},
   "source": [
    "# Building Functions and Visualizing Distribution\n",
    "\n",
    "## Functions\n",
    "\n",
    "In this section, we learned how to create functions and why they are so important in our work. Throughout, we will determine how we can program these functions, and provide visualizations that help us further understand what they are actually doing. The functions that will be touched on are statistical functions (mean, median, standard deviation, kurtosis, etc). We write code to compute these statistics because doing them by hand is tedious work, and can often lead to simple mistakes that provide inaccurate findings. "
   ]
  },
  {
   "cell_type": "markdown",
   "metadata": {},
   "source": [
    "## Building Functions\n",
    "\n",
    "In python, functions can take the form of:"
   ]
  },
  {
   "cell_type": "code",
   "execution_count": null,
   "metadata": {},
   "outputs": [],
   "source": [
    "def function_name(object1, object2, objectn):\n",
    "    <operations>"
   ]
  },
  {
   "cell_type": "markdown",
   "metadata": {},
   "source": [
    "We can start by constructing a simple function, the sum() function. We start this buy using i=0 (since list indices start at 0) and process the elements until we reach the index n-1. Our for-loop will take the form:"
   ]
  },
  {
   "cell_type": "code",
   "execution_count": null,
   "metadata": {},
   "outputs": [],
   "source": [
    "n=0\n",
    "for values in range(n):\n",
    "    n+= 1"
   ]
  },
  {
   "cell_type": "markdown",
   "metadata": {},
   "source": [
    "This for-loop will be used to return our sum. We will construct our function below:"
   ]
  },
  {
   "cell_type": "code",
   "execution_count": 4,
   "metadata": {},
   "outputs": [
    {
     "name": "stdout",
     "output_type": "stream",
     "text": [
      "73\n",
      "1989\n"
     ]
    }
   ],
   "source": [
    "def sum(list_obj):\n",
    "    sum=0;\n",
    "    n = len(list_obj)\n",
    "    for i in range(n):\n",
    "        sum += list_obj[i]\n",
    "    return sum\n",
    "\n",
    "list1 = [1, 5, 12, 41, 2, 12]\n",
    "list2 = [i ** 3 for i in range(4,10)]\n",
    "sum_list1 = sum(list1)\n",
    "sum_list2 = sum(list2)\n",
    "print(sum_list1)\n",
    "print(sum_list2)"
   ]
  },
  {
   "cell_type": "markdown",
   "metadata": {},
   "source": [
    "The sum function is very simple, but it is an integral part of other functions we will write."
   ]
  },
  {
   "cell_type": "markdown",
   "metadata": {},
   "source": [
    "## Statistical Functions\n",
    "\n",
    "Now that we determined how to make a simple summation function, we can take things a step further and construct functions that can help us describe data. We can derive a mean() function using our sum function that we created above."
   ]
  },
  {
   "cell_type": "code",
   "execution_count": 3,
   "metadata": {},
   "outputs": [
    {
     "name": "stdout",
     "output_type": "stream",
     "text": [
      "Mean of list one:  14.75\n",
      "Mean of list two:  331.5\n"
     ]
    }
   ],
   "source": [
    "def mean(list_obj):\n",
    "    n = len(list_obj)\n",
    "    mean_ = sum(list_obj) / n\n",
    "    return mean_\n",
    "\n",
    "mean_list1 = mean(list1)\n",
    "mean_list2 = mean(list2)\n",
    "print(\"Mean of list one: \", mean_list1)\n",
    "print(\"Mean of list two: \", mean_list2)"
   ]
  },
  {
   "cell_type": "markdown",
   "metadata": {},
   "source": [
    "Since these two functions are now set up, we can use them as the framework for other core statistical measures:\n",
    "\n",
    "1. median\n",
    "2. mode\n",
    "3. variance\n",
    "4. standard deviation\n",
    "5. covariance\n",
    "6. correlation\n",
    "\n",
    "These values help us provide extra information about a datasets shape and structure, and help us draw conclusions based on the dataset as a whole. We will start by using our functions to construct a mode() function.\n",
    "\n",
    "The mode of a dataset is defined as the observation that appears most frequently within said dataset. Instead of using the methods used above, we will be using a dictionary in order to determine this value. This is due to the fact that we can see how many times a certain value is linked with the respective key:"
   ]
  },
  {
   "cell_type": "code",
   "execution_count": 5,
   "metadata": {},
   "outputs": [
    {
     "name": "stdout",
     "output_type": "stream",
     "text": [
      "The mode of list one is:  [12]\n",
      "The mode of list two is:  [64, 125, 216, 343, 512, 729]\n"
     ]
    }
   ],
   "source": [
    "def mode(list_obj):\n",
    "    max_count = 0\n",
    "    counter_dict = {}\n",
    "    for value in list_obj:\n",
    "        counter_dict[value] = 0;\n",
    "    for value in list_obj:\n",
    "        counter_dict[value] += 1\n",
    "        \n",
    "    count_list = list(counter_dict.values())\n",
    "    \n",
    "    max_count = max(count_list)\n",
    "    \n",
    "    mode_ = [key for key in counter_dict if counter_dict[key] == max_count]\n",
    "    \n",
    "    return mode_\n",
    "\n",
    "mode_list1 = mode(list1)\n",
    "mode_list2 = mode(list2)\n",
    "\n",
    "print(\"The mode of list one is: \", mode_list1)\n",
    "print(\"The mode of list two is: \", mode_list2)"
   ]
  },
  {
   "cell_type": "markdown",
   "metadata": {},
   "source": [
    "The median of a dataset is the middlemost value. We will first determine whether or not the length of the list is odd or even. This is because it is much more straightforward if the list length is odd. If the list is even, we will just take the average of the two middle terms:"
   ]
  },
  {
   "cell_type": "code",
   "execution_count": 7,
   "metadata": {},
   "outputs": [
    {
     "name": "stdout",
     "output_type": "stream",
     "text": [
      "The median of list 1 is:  8.5\n",
      "The median of list 2 is:  279.5\n"
     ]
    }
   ],
   "source": [
    "def median(list_obj):\n",
    "    n = len(list_obj)\n",
    "    list_obj = sorted(list_obj)\n",
    "    \n",
    "    if n % 2 != 0:\n",
    "        middle_index = int((n-1)/2)\n",
    "        median_ = list_obj[middle_index]\n",
    "    else:\n",
    "        upper_middle_index = int(n/2)\n",
    "        lower_middle_index = upper_middle_index - 1\n",
    "        \n",
    "        median_ = mean(list_obj[lower_middle_index : upper_middle_index + 1])\n",
    "        \n",
    "    return median_\n",
    "    \n",
    "median_list1 = median(list1)\n",
    "median_list2 = median(list2)\n",
    "print(\"The median of list 1 is: \", median_list1)\n",
    "print(\"The median of list 2 is: \", median_list2)"
   ]
  },
  {
   "cell_type": "markdown",
   "metadata": {},
   "source": [
    "## Statistics Describing Distributions\n",
    "\n",
    "The average values we've computed so far are helpful, but they do not give as much information as we sometimes need. Now, we will build functions that describe statistical relationships. We will start by constructing functions that calculate a population's variance and standard deviation. "
   ]
  },
  {
   "cell_type": "code",
   "execution_count": 8,
   "metadata": {},
   "outputs": [
    {
     "name": "stdout",
     "output_type": "stream",
     "text": [
      "The variance of list 1 is:  185.1388888888889\n",
      "The variance of list 2 is:  53042.916666666664\n"
     ]
    }
   ],
   "source": [
    "def variance(list_obj, sample = False):\n",
    "    list_mean = mean(list_obj)\n",
    "    n = len(list_obj)\n",
    "    \n",
    "    sum_sq_diff = 0\n",
    "    for val in list_obj:\n",
    "        sum_sq_diff += (val - list_mean) ** 2\n",
    "        \n",
    "    if sample == False:\n",
    "        variance_ = sum_sq_diff / n\n",
    "    else:\n",
    "        variance_ = sum_sq_diff / (n-1)\n",
    "        \n",
    "    return variance_\n",
    "\n",
    "variance_list1 = variance(list1)\n",
    "variance_list2 = variance(list2)\n",
    "\n",
    "print(\"The variance of list 1 is: \", variance_list1)\n",
    "print(\"The variance of list 2 is: \", variance_list2)"
   ]
  },
  {
   "cell_type": "markdown",
   "metadata": {},
   "source": [
    "We will include an option to calculate sample variance. To do this, we simple set sample=True:"
   ]
  },
  {
   "cell_type": "code",
   "execution_count": 9,
   "metadata": {},
   "outputs": [
    {
     "name": "stdout",
     "output_type": "stream",
     "text": [
      "The sample variance of list 1 is:  222.16666666666669\n",
      "The sample variance of list 2 is:  63651.5\n"
     ]
    }
   ],
   "source": [
    "s_variance_list1 = variance(list1, sample = True)\n",
    "s_variance_list2 = variance(list2, sample = True)\n",
    "print(\"The sample variance of list 1 is: \", s_variance_list1)\n",
    "print(\"The sample variance of list 2 is: \", s_variance_list2)"
   ]
  },
  {
   "cell_type": "markdown",
   "metadata": {},
   "source": [
    "The standard deviation is calculated by taking the square root of the variance. We will do the same as before, including an option for the sample standard deviation."
   ]
  },
  {
   "cell_type": "code",
   "execution_count": 11,
   "metadata": {},
   "outputs": [
    {
     "name": "stdout",
     "output_type": "stream",
     "text": [
      "The standard deviation of list 1 is:  13.606575207923886\n",
      "The standard deviation of list 2 is:  230.31047884685287\n",
      "The sample standard deviation of list 1 is:  14.905256343540914\n",
      "The sample standard deviation of list 2 is:  252.29248898847544\n"
     ]
    }
   ],
   "source": [
    "def SD(list_obj, sample = False):\n",
    "    SD_ = variance(list_obj, sample) ** (1/2)\n",
    "    \n",
    "    return SD_\n",
    "\n",
    "SD_list1 = SD(list1)\n",
    "SD_list2 = SD(list2)\n",
    "print(\"The standard deviation of list 1 is: \", SD_list1)\n",
    "print(\"The standard deviation of list 2 is: \", SD_list2)\n",
    "sample_SD_list1 = SD(list1, sample = True)\n",
    "sample_SD_list2 = SD(list2, sample = True)\n",
    "print(\"The sample standard deviation of list 1 is: \", sample_SD_list1)\n",
    "print(\"The sample standard deviation of list 2 is: \", sample_SD_list2)"
   ]
  },
  {
   "cell_type": "markdown",
   "metadata": {},
   "source": [
    "The functions we have remaining are covariance, correlation, skewness and kurtosis. \n",
    "\n",
    "Covariance measures the average relationship between two variables. In order to compute this, our lists that we use in our functions must be of equal length:"
   ]
  },
  {
   "cell_type": "code",
   "execution_count": 16,
   "metadata": {},
   "outputs": [
    {
     "name": "stdout",
     "output_type": "stream",
     "text": [
      "Population covariance is:  486.0833333333334\n",
      "Sample covariance is:  583.3000000000001\n"
     ]
    }
   ],
   "source": [
    "def covariance(list_obj1, list_obj2, sample = False):\n",
    "    mean1 = mean(list_obj1)\n",
    "    mean2 = mean(list_obj2)\n",
    "    \n",
    "    cov = 0\n",
    "    n1 = len(list_obj1)\n",
    "    n2 = len(list_obj2)\n",
    "    \n",
    "    if n1 == n2:\n",
    "        n = n1\n",
    "        for i in range(n1):\n",
    "            cov += (list_obj1[i] - mean1) * (list_obj2[i] - mean2)\n",
    "            \n",
    "        if sample == False:\n",
    "            cov = cov / n\n",
    "            \n",
    "        else:\n",
    "            cov = cov / (n - 1)\n",
    "            \n",
    "        return cov\n",
    "    else:\n",
    "        print(\"List lengths are not equal\")\n",
    "        print(\"Length of list 1: \", n1)\n",
    "        print(\"Length of list 2: \", n2)\n",
    "        \n",
    "population_cov = cov(list1, list2)\n",
    "print(\"Population covariance is: \", population_cov)\n",
    "sample_cov = cov(list1, list2, sample = True)\n",
    "print(\"Sample covariance is: \", sample_cov)"
   ]
  },
  {
   "cell_type": "markdown",
   "metadata": {},
   "source": [
    "We will use our covariance and transform it into correlation by dividing by the product of the standard deviations. Our correlation() function will make use of our covariance() and stdev() functions:"
   ]
  },
  {
   "cell_type": "code",
   "execution_count": 17,
   "metadata": {},
   "outputs": [
    {
     "name": "stdout",
     "output_type": "stream",
     "text": [
      "Correlation of lists 1 and 2 is:  0.15511300289452798\n"
     ]
    }
   ],
   "source": [
    "def correlation(list_obj1, list_obj2):\n",
    "\n",
    "    cov = covariance(list_obj1, list_obj2)\n",
    "    SD1 = SD(list_obj1)\n",
    "    SD2 = SD(list_obj2)\n",
    "    corr = cov / (SD1 * SD2)\n",
    "    return corr\n",
    "\n",
    " \n",
    "corr_1_2 = correlation(list1, list2)\n",
    "print(\"Correlation of lists 1 and 2 is: \", corr_1_2)"
   ]
  },
  {
   "cell_type": "markdown",
   "metadata": {},
   "source": [
    "Our next function will be skewness. This statistic is useful because not all distributions are normal.\n",
    "\n",
    "Distributions can be skewed due to having either long or fat tails. If a tail is long, this means that it contains values that are relatively far from the mean value of the data. If a tail is fat, there exists a greater number of observations whose values are relatively far from the mean than is predicted by a normal distribution. For example, if a distribution includes a long tail on the right side, but is normal otherwise, it is said to have a positive skew. The same can be said of a distribution with a fat right tail. Skewness can be ambiguous concerning the shape of the distribution. If a distribution has a fat right tail and a long left tail that is not fat, it is possible that its skewness will be zero, even though the shape of the distribution is asymmetric (I was not sure of a better way to explain this):"
   ]
  },
  {
   "cell_type": "code",
   "execution_count": 18,
   "metadata": {},
   "outputs": [
    {
     "name": "stdout",
     "output_type": "stream",
     "text": [
      "Population skewness of list 1 is:  81.70854518731268\n",
      "Population skewness of list 2 is:  10628543.294043103\n",
      "Sample skewness of list 1 is:  -5.846187474702679e-06\n",
      "Sample skewness of list 2 is:  0.9386629526374385\n"
     ]
    }
   ],
   "source": [
    "def skewness(list_obj, sample = False):\n",
    "    mean_ = mean(list_obj)\n",
    "    SD_ = SD(list_obj, sample)\n",
    "    skew = 0\n",
    "    n = len(list_obj)\n",
    "    for val in list_obj:\n",
    "        skew += (val - mean_) ** 3\n",
    "        skew = skew / n if not sample else n * skew / ((n - 1)*(n - 1) * SD_ ** 3)\n",
    "        \n",
    "    return skew\n",
    "\n",
    "\n",
    "population_skew_list1 = skewness(list1, sample = False)\n",
    "population_skew_list2 = skewness(list2, sample = False)\n",
    "print(\"Population skewness of list 1 is: \", population_skew_list1)\n",
    "print(\"Population skewness of list 2 is: \", population_skew_list2)\n",
    "sample_skew_list1 = skewness(list1, sample = True)\n",
    "sample_skew_list2 = skewness(list2, sample = True)\n",
    "print(\"Sample skewness of list 1 is: \", sample_skew_list1)\n",
    "print(\"Sample skewness of list 2 is: \", sample_skew_list2)"
   ]
  },
  {
   "cell_type": "markdown",
   "metadata": {},
   "source": [
    "Lastly, we will develop a function for kurtosis. This is an absolute measure of the weight of outliers. This tells us the weight of the values within the distribution's tails:"
   ]
  },
  {
   "cell_type": "code",
   "execution_count": 19,
   "metadata": {},
   "outputs": [
    {
     "name": "stdout",
     "output_type": "stream",
     "text": [
      "Population kurtosis of list 1:  3.5011033553587194\n",
      "Population kurtosis of list 2:  1.9633602867077833\n",
      "Sample kurtosis of list 1:  24.384654359388804\n",
      "Sample kurtosis of list 2:  10.929402508693101\n"
     ]
    }
   ],
   "source": [
    "def kurtosis(list_obj, sample = False):\n",
    "    mean_ = mean(list_obj)\n",
    "    kurt = 0\n",
    "    SD_ = SD(list_obj, sample)\n",
    "    n = len(list_obj)\n",
    "    for x in list_obj:\n",
    "        kurt += (x - mean_) ** 4\n",
    "    kurt = kurt / (n * SD_ ** 4) if not sample else  n * (n + 1) * kurt / \\\n",
    "    ((n - 1) * (n - 2) * (SD_ ** 4)) - (3 *(n - 1) ** 2) / ((n - 2) * (n - 3))\n",
    "    \n",
    "    return kurt\n",
    "\n",
    "population_kurt_list1 = kurtosis(list1)\n",
    "population_kurt_list2 = kurtosis(list2)\n",
    "print(\"Population kurtosis of list 1: \", population_kurt_list1)\n",
    "print(\"Population kurtosis of list 2: \", population_kurt_list2)\n",
    "sample_kurt_list1 = kurtosis(list1, sample = True)  \n",
    "sample_kurt_list2 = kurtosis(list2, sample = True)  \n",
    "print(\"Sample kurtosis of list 1: \", sample_kurt_list1)  \n",
    "print(\"Sample kurtosis of list 2: \", sample_kurt_list2)"
   ]
  },
  {
   "cell_type": "markdown",
   "metadata": {},
   "source": [
    "## Using a Nested Dictionary to Organize Statistics\n",
    "\n",
    "We will now organize our statistics using a dictionary. This allows us to have all of our statistical values stored in one place. We will call this stats_dict:"
   ]
  },
  {
   "cell_type": "code",
   "execution_count": 20,
   "metadata": {},
   "outputs": [
    {
     "name": "stdout",
     "output_type": "stream",
     "text": [
      "{1: {'list': [1, 5, 12, 41, 2, 12], 'sum': 73, 'mean': 12.166666666666666, 'median': 8.5, 'mode': [12], 'variance': 185.1388888888889, 'standard deviation': 13.606575207923886, 'skewness': 81.70854518731268, 'kurtosis': 3.5011033553587194}, 2: {'list': [64, 125, 216, 343, 512, 729], 'sum': 1989, 'mean': 331.5, 'median': 279.5, 'mode': [64, 125, 216, 343, 512, 729], 'variance': 53042.916666666664, 'standard deviation': 230.31047884685287, 'skewness': 10628543.294043103, 'kurtosis': 1.9633602867077833}}\n"
     ]
    }
   ],
   "source": [
    "stats_dict = {}\n",
    "\n",
    "stats_dict[1] = {}\n",
    "stats_dict[1][\"list\"] = list1\n",
    "\n",
    "stats_dict[2] = {}\n",
    "stats_dict[2][\"list\"] = list2\n",
    "\n",
    "for key in stats_dict:  \n",
    "\n",
    "    lst = stats_dict[key][\"list\"]  \n",
    "\n",
    "    stats_dict[key][\"sum\"] = sum(lst)  \n",
    "    stats_dict[key][\"mean\"] = mean(lst)  \n",
    "    stats_dict[key][\"median\"] = median(lst)  \n",
    "    stats_dict[key][\"mode\"] = mode(lst)  \n",
    "    stats_dict[key][\"variance\"] = variance(lst)  \n",
    "    stats_dict[key][\"standard deviation\"] = SD(lst)    \n",
    "    stats_dict[key][\"skewness\"] = skewness(lst)  \n",
    "    stats_dict[key][\"kurtosis\"] = kurtosis(lst)  \n",
    "  \n",
    "print(stats_dict)"
   ]
  },
  {
   "cell_type": "code",
   "execution_count": null,
   "metadata": {},
   "outputs": [],
   "source": []
  }
 ],
 "metadata": {
  "kernelspec": {
   "display_name": "Python 3",
   "language": "python",
   "name": "python3"
  },
  "language_info": {
   "codemirror_mode": {
    "name": "ipython",
    "version": 3
   },
   "file_extension": ".py",
   "mimetype": "text/x-python",
   "name": "python",
   "nbconvert_exporter": "python",
   "pygments_lexer": "ipython3",
   "version": "3.8.3"
  }
 },
 "nbformat": 4,
 "nbformat_minor": 4
}

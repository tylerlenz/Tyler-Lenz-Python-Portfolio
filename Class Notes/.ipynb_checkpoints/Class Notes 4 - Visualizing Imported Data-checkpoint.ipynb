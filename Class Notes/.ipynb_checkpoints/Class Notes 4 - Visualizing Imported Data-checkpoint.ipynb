{
 "cells": [
  {
   "cell_type": "markdown",
   "metadata": {},
   "source": [
    "# Working with Imported Data: Cleaning and Analyzing\n",
    "\n",
    "## Working with Data\n",
    "\n",
    "For this section of notes, I will be using the 2020 Index of Economic Freedom. In order to import this data, I have moved the Excel spreadsheet into my \"Class Notes\" folder, so pandas can access it. As said, pandas library will be used, and we can actually print the dataset like we do a dictionary but it will show up as a spreadsheet in the output. Now, let's import our data:"
   ]
  },
  {
   "cell_type": "code",
   "execution_count": 8,
   "metadata": {},
   "outputs": [
    {
     "data": {
      "text/plain": [
       "(186, 33)"
      ]
     },
     "execution_count": 8,
     "metadata": {},
     "output_type": "execute_result"
    }
   ],
   "source": [
    "import pandas as pd\n",
    "\n",
    "data = pd.read_excel(\"index2020_data.xls\", index_col = [1])\n",
    "\n",
    "data.shape"
   ]
  },
  {
   "cell_type": "markdown",
   "metadata": {},
   "source": [
    "The last line of code shows us the shape of our data (rows and columns). The spreadsheet is now loaded, but in order to properly analyze it we might need to make some changes in the sheet itself. This will be called \"cleaning\", or getting rid of data parameters that are not useful in our analysis. We can begin by determining what our datasets keys are:"
   ]
  },
  {
   "cell_type": "code",
   "execution_count": 4,
   "metadata": {},
   "outputs": [
    {
     "data": {
      "text/plain": [
       "Index(['CountryID', 'WEBNAME', 'Region', 'World Rank', 'Region Rank',\n",
       "       '2020 Score', 'Property Rights', 'Judical Effectiveness',\n",
       "       'Government Integrity', 'Tax Burden', 'Gov't Spending', 'Fiscal Health',\n",
       "       'Business Freedom', 'Labor Freedom', 'Monetary Freedom',\n",
       "       'Trade Freedom', 'Investment Freedom ', 'Financial Freedom',\n",
       "       'Tariff Rate (%)', 'Income Tax Rate (%)', 'Corporate Tax Rate (%)',\n",
       "       'Tax Burden % of GDP', 'Gov't Expenditure % of GDP ', 'Country',\n",
       "       'Population (Millions)', 'GDP (Billions, PPP)', 'GDP Growth Rate (%)',\n",
       "       '5 Year GDP Growth Rate (%)', 'GDP per Capita (PPP)',\n",
       "       'Unemployment (%)', 'Inflation (%)', 'FDI Inflow (Millions)',\n",
       "       'Public Debt (% of GDP)'],\n",
       "      dtype='object')"
      ]
     },
     "execution_count": 4,
     "metadata": {},
     "output_type": "execute_result"
    }
   ],
   "source": [
    "data.keys()"
   ]
  },
  {
   "cell_type": "markdown",
   "metadata": {},
   "source": [
    "Now we will drop the unnecessary cloumns from the dataset. These columns will be \"CountryID\", \"Region\", \"WEBNAME\", and \"Country\"."
   ]
  },
  {
   "cell_type": "code",
   "execution_count": null,
   "metadata": {},
   "outputs": [],
   "source": [
    "skip_keys = [\"Country ID\", \"Region\", \"WEBNAME\", \"Country\"]\n",
    "data_for_stats = data.drop(skip_keys, axis = 1)\n",
    "\n",
    "data_for_stats = data_for_stats.dropna(thresh = len(data_for_stats.keys()))"
   ]
  },
  {
   "cell_type": "markdown",
   "metadata": {},
   "source": [
    "Next, we will work on our regression statistics. We will make dictionaries that hold our statistics, one for covariance and one for correlation. "
   ]
  },
  {
   "cell_type": "code",
   "execution_count": 9,
   "metadata": {},
   "outputs": [
    {
     "name": "stdout",
     "output_type": "stream",
     "text": [
      "You created an instance of stats()\n"
     ]
    }
   ],
   "source": [
    "import stats\n",
    "stat = stats.stats()\n",
    "stats_dict = {}\n",
    "cov_dict = {}\n",
    "corr_dict = {}"
   ]
  },
  {
   "cell_type": "code",
   "execution_count": null,
   "metadata": {},
   "outputs": [],
   "source": []
  }
 ],
 "metadata": {
  "kernelspec": {
   "display_name": "Python 3",
   "language": "python",
   "name": "python3"
  },
  "language_info": {
   "codemirror_mode": {
    "name": "ipython",
    "version": 3
   },
   "file_extension": ".py",
   "mimetype": "text/x-python",
   "name": "python",
   "nbconvert_exporter": "python",
   "pygments_lexer": "ipython3",
   "version": "3.8.3"
  }
 },
 "nbformat": 4,
 "nbformat_minor": 4
}
